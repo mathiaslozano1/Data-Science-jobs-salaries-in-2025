{
 "cells": [
  {
   "cell_type": "code",
   "execution_count": 267,
   "id": "84a824cd",
   "metadata": {},
   "outputs": [],
   "source": [
    "import pandas as pd\n",
    "import numpy as np\n",
    "import matplotlib.pyplot as plt\n",
    "import seaborn as sns"
   ]
  },
  {
   "cell_type": "code",
   "execution_count": 268,
   "id": "fecbf477",
   "metadata": {},
   "outputs": [
    {
     "data": {
      "application/vnd.microsoft.datawrangler.viewer.v0+json": {
       "columns": [
        {
         "name": "index",
         "rawType": "int64",
         "type": "integer"
        },
        {
         "name": "work_year",
         "rawType": "int64",
         "type": "integer"
        },
        {
         "name": "experience_level",
         "rawType": "object",
         "type": "string"
        },
        {
         "name": "employment_type",
         "rawType": "object",
         "type": "string"
        },
        {
         "name": "job_title",
         "rawType": "object",
         "type": "string"
        },
        {
         "name": "salary_in_usd",
         "rawType": "int64",
         "type": "integer"
        },
        {
         "name": "employee_residence",
         "rawType": "object",
         "type": "string"
        },
        {
         "name": "remote_ratio",
         "rawType": "int64",
         "type": "integer"
        },
        {
         "name": "company_location",
         "rawType": "object",
         "type": "string"
        },
        {
         "name": "company_size",
         "rawType": "object",
         "type": "string"
        }
       ],
       "ref": "686b7f66-1163-4d3f-a2a1-d35b0aa82129",
       "rows": [
        [
         "0",
         "2025",
         "SE",
         "FT",
         "Solutions Engineer",
         "214000",
         "US",
         "100",
         "US",
         "M"
        ],
        [
         "1",
         "2025",
         "SE",
         "FT",
         "Solutions Engineer",
         "136000",
         "US",
         "100",
         "US",
         "M"
        ],
        [
         "2",
         "2025",
         "MI",
         "FT",
         "Data Engineer",
         "158800",
         "AU",
         "0",
         "AU",
         "M"
        ],
        [
         "3",
         "2025",
         "MI",
         "FT",
         "Data Engineer",
         "139200",
         "AU",
         "0",
         "AU",
         "M"
        ],
        [
         "4",
         "2025",
         "EN",
         "FT",
         "Data Engineer",
         "90000",
         "US",
         "0",
         "US",
         "M"
        ],
        [
         "5",
         "2025",
         "EN",
         "FT",
         "Data Engineer",
         "80000",
         "US",
         "0",
         "US",
         "M"
        ],
        [
         "6",
         "2025",
         "SE",
         "FT",
         "Data Scientist",
         "185000",
         "US",
         "0",
         "US",
         "M"
        ],
        [
         "7",
         "2025",
         "SE",
         "FT",
         "Data Scientist",
         "148000",
         "US",
         "0",
         "US",
         "M"
        ],
        [
         "8",
         "2025",
         "MI",
         "FT",
         "Data Scientist",
         "135000",
         "CA",
         "0",
         "CA",
         "M"
        ],
        [
         "9",
         "2025",
         "MI",
         "FT",
         "Data Scientist",
         "108000",
         "CA",
         "0",
         "CA",
         "M"
        ],
        [
         "10",
         "2025",
         "MI",
         "FT",
         "BI Developer",
         "118000",
         "US",
         "100",
         "US",
         "M"
        ],
        [
         "11",
         "2025",
         "MI",
         "FT",
         "BI Developer",
         "51000",
         "US",
         "100",
         "US",
         "M"
        ],
        [
         "12",
         "2025",
         "EN",
         "FT",
         "Data Analyst",
         "91900",
         "US",
         "0",
         "US",
         "M"
        ],
        [
         "13",
         "2025",
         "EN",
         "FT",
         "Data Analyst",
         "54300",
         "US",
         "0",
         "US",
         "M"
        ],
        [
         "14",
         "2025",
         "SE",
         "FT",
         "Applied Scientist",
         "255000",
         "US",
         "0",
         "US",
         "M"
        ],
        [
         "15",
         "2025",
         "SE",
         "FT",
         "Applied Scientist",
         "190000",
         "US",
         "0",
         "US",
         "M"
        ],
        [
         "16",
         "2025",
         "MI",
         "FT",
         "Systems Engineer",
         "196350",
         "US",
         "0",
         "US",
         "M"
        ],
        [
         "17",
         "2025",
         "MI",
         "FT",
         "Systems Engineer",
         "130900",
         "US",
         "0",
         "US",
         "M"
        ],
        [
         "18",
         "2025",
         "EX",
         "FT",
         "Director",
         "170000",
         "US",
         "0",
         "US",
         "M"
        ],
        [
         "19",
         "2025",
         "EX",
         "FT",
         "Director",
         "160000",
         "US",
         "0",
         "US",
         "M"
        ],
        [
         "20",
         "2025",
         "MI",
         "FT",
         "Associate",
         "119000",
         "CA",
         "0",
         "CA",
         "M"
        ],
        [
         "21",
         "2025",
         "MI",
         "FT",
         "Associate",
         "105000",
         "CA",
         "0",
         "CA",
         "M"
        ],
        [
         "22",
         "2025",
         "MI",
         "FT",
         "Associate",
         "120000",
         "US",
         "0",
         "US",
         "M"
        ],
        [
         "23",
         "2025",
         "MI",
         "FT",
         "Associate",
         "110000",
         "US",
         "0",
         "US",
         "M"
        ],
        [
         "24",
         "2025",
         "MI",
         "FT",
         "Associate",
         "120000",
         "US",
         "0",
         "US",
         "M"
        ],
        [
         "25",
         "2025",
         "MI",
         "FT",
         "Associate",
         "110000",
         "US",
         "0",
         "US",
         "M"
        ],
        [
         "26",
         "2025",
         "MI",
         "FT",
         "Associate",
         "120000",
         "US",
         "0",
         "US",
         "M"
        ],
        [
         "27",
         "2025",
         "MI",
         "FT",
         "Associate",
         "110000",
         "US",
         "0",
         "US",
         "M"
        ],
        [
         "28",
         "2025",
         "SE",
         "FT",
         "Software Engineer",
         "190000",
         "US",
         "0",
         "US",
         "M"
        ],
        [
         "29",
         "2025",
         "SE",
         "FT",
         "Software Engineer",
         "150000",
         "US",
         "0",
         "US",
         "M"
        ],
        [
         "30",
         "2025",
         "SE",
         "FT",
         "Consultant",
         "180000",
         "US",
         "0",
         "US",
         "M"
        ],
        [
         "31",
         "2025",
         "SE",
         "FT",
         "Consultant",
         "130000",
         "US",
         "0",
         "US",
         "M"
        ],
        [
         "32",
         "2025",
         "MI",
         "FT",
         "Software Engineer",
         "98348",
         "US",
         "0",
         "US",
         "M"
        ],
        [
         "33",
         "2025",
         "MI",
         "FT",
         "Software Engineer",
         "88651",
         "US",
         "0",
         "US",
         "M"
        ],
        [
         "34",
         "2025",
         "EN",
         "FT",
         "Analyst",
         "122058",
         "AU",
         "0",
         "AU",
         "M"
        ],
        [
         "35",
         "2025",
         "EN",
         "FT",
         "Analyst",
         "110266",
         "AU",
         "0",
         "AU",
         "M"
        ],
        [
         "36",
         "2025",
         "SE",
         "FT",
         "Product Manager",
         "160000",
         "US",
         "0",
         "US",
         "M"
        ],
        [
         "37",
         "2025",
         "SE",
         "FT",
         "Product Manager",
         "100000",
         "US",
         "0",
         "US",
         "M"
        ],
        [
         "38",
         "2025",
         "SE",
         "FT",
         "Software Developer",
         "199100",
         "JP",
         "0",
         "JP",
         "M"
        ],
        [
         "39",
         "2025",
         "SE",
         "FT",
         "Software Developer",
         "94800",
         "JP",
         "0",
         "JP",
         "M"
        ],
        [
         "40",
         "2025",
         "SE",
         "FT",
         "Engineer",
         "170000",
         "US",
         "0",
         "US",
         "M"
        ],
        [
         "41",
         "2025",
         "SE",
         "FT",
         "Engineer",
         "130000",
         "US",
         "0",
         "US",
         "M"
        ],
        [
         "42",
         "2025",
         "SE",
         "FT",
         "Developer",
         "150000",
         "US",
         "0",
         "US",
         "M"
        ],
        [
         "43",
         "2025",
         "SE",
         "FT",
         "Developer",
         "114000",
         "US",
         "0",
         "US",
         "M"
        ],
        [
         "44",
         "2025",
         "MI",
         "FT",
         "Data Engineer",
         "69348",
         "GB",
         "0",
         "GB",
         "M"
        ],
        [
         "45",
         "2025",
         "MI",
         "FT",
         "Data Engineer",
         "53392",
         "GB",
         "0",
         "GB",
         "M"
        ],
        [
         "46",
         "2025",
         "SE",
         "FT",
         "Data Engineer",
         "104000",
         "US",
         "0",
         "US",
         "M"
        ],
        [
         "47",
         "2025",
         "SE",
         "FT",
         "Data Engineer",
         "72800",
         "US",
         "0",
         "US",
         "M"
        ],
        [
         "48",
         "2025",
         "SE",
         "FT",
         "Data Analyst",
         "69764",
         "GB",
         "0",
         "GB",
         "M"
        ],
        [
         "49",
         "2025",
         "SE",
         "FT",
         "Data Analyst",
         "51564",
         "GB",
         "0",
         "GB",
         "M"
        ]
       ],
       "shape": {
        "columns": 9,
        "rows": 133349
       }
      },
      "text/html": [
       "<div>\n",
       "<style scoped>\n",
       "    .dataframe tbody tr th:only-of-type {\n",
       "        vertical-align: middle;\n",
       "    }\n",
       "\n",
       "    .dataframe tbody tr th {\n",
       "        vertical-align: top;\n",
       "    }\n",
       "\n",
       "    .dataframe thead th {\n",
       "        text-align: right;\n",
       "    }\n",
       "</style>\n",
       "<table border=\"1\" class=\"dataframe\">\n",
       "  <thead>\n",
       "    <tr style=\"text-align: right;\">\n",
       "      <th></th>\n",
       "      <th>work_year</th>\n",
       "      <th>experience_level</th>\n",
       "      <th>employment_type</th>\n",
       "      <th>job_title</th>\n",
       "      <th>salary_in_usd</th>\n",
       "      <th>employee_residence</th>\n",
       "      <th>remote_ratio</th>\n",
       "      <th>company_location</th>\n",
       "      <th>company_size</th>\n",
       "    </tr>\n",
       "  </thead>\n",
       "  <tbody>\n",
       "    <tr>\n",
       "      <th>0</th>\n",
       "      <td>2025</td>\n",
       "      <td>SE</td>\n",
       "      <td>FT</td>\n",
       "      <td>Solutions Engineer</td>\n",
       "      <td>214000</td>\n",
       "      <td>US</td>\n",
       "      <td>100</td>\n",
       "      <td>US</td>\n",
       "      <td>M</td>\n",
       "    </tr>\n",
       "    <tr>\n",
       "      <th>1</th>\n",
       "      <td>2025</td>\n",
       "      <td>SE</td>\n",
       "      <td>FT</td>\n",
       "      <td>Solutions Engineer</td>\n",
       "      <td>136000</td>\n",
       "      <td>US</td>\n",
       "      <td>100</td>\n",
       "      <td>US</td>\n",
       "      <td>M</td>\n",
       "    </tr>\n",
       "    <tr>\n",
       "      <th>2</th>\n",
       "      <td>2025</td>\n",
       "      <td>MI</td>\n",
       "      <td>FT</td>\n",
       "      <td>Data Engineer</td>\n",
       "      <td>158800</td>\n",
       "      <td>AU</td>\n",
       "      <td>0</td>\n",
       "      <td>AU</td>\n",
       "      <td>M</td>\n",
       "    </tr>\n",
       "    <tr>\n",
       "      <th>3</th>\n",
       "      <td>2025</td>\n",
       "      <td>MI</td>\n",
       "      <td>FT</td>\n",
       "      <td>Data Engineer</td>\n",
       "      <td>139200</td>\n",
       "      <td>AU</td>\n",
       "      <td>0</td>\n",
       "      <td>AU</td>\n",
       "      <td>M</td>\n",
       "    </tr>\n",
       "    <tr>\n",
       "      <th>4</th>\n",
       "      <td>2025</td>\n",
       "      <td>EN</td>\n",
       "      <td>FT</td>\n",
       "      <td>Data Engineer</td>\n",
       "      <td>90000</td>\n",
       "      <td>US</td>\n",
       "      <td>0</td>\n",
       "      <td>US</td>\n",
       "      <td>M</td>\n",
       "    </tr>\n",
       "    <tr>\n",
       "      <th>...</th>\n",
       "      <td>...</td>\n",
       "      <td>...</td>\n",
       "      <td>...</td>\n",
       "      <td>...</td>\n",
       "      <td>...</td>\n",
       "      <td>...</td>\n",
       "      <td>...</td>\n",
       "      <td>...</td>\n",
       "      <td>...</td>\n",
       "    </tr>\n",
       "    <tr>\n",
       "      <th>133344</th>\n",
       "      <td>2020</td>\n",
       "      <td>SE</td>\n",
       "      <td>FT</td>\n",
       "      <td>Data Scientist</td>\n",
       "      <td>412000</td>\n",
       "      <td>US</td>\n",
       "      <td>100</td>\n",
       "      <td>US</td>\n",
       "      <td>L</td>\n",
       "    </tr>\n",
       "    <tr>\n",
       "      <th>133345</th>\n",
       "      <td>2021</td>\n",
       "      <td>MI</td>\n",
       "      <td>FT</td>\n",
       "      <td>Principal Data Scientist</td>\n",
       "      <td>151000</td>\n",
       "      <td>US</td>\n",
       "      <td>100</td>\n",
       "      <td>US</td>\n",
       "      <td>L</td>\n",
       "    </tr>\n",
       "    <tr>\n",
       "      <th>133346</th>\n",
       "      <td>2020</td>\n",
       "      <td>EN</td>\n",
       "      <td>FT</td>\n",
       "      <td>Data Scientist</td>\n",
       "      <td>105000</td>\n",
       "      <td>US</td>\n",
       "      <td>100</td>\n",
       "      <td>US</td>\n",
       "      <td>S</td>\n",
       "    </tr>\n",
       "    <tr>\n",
       "      <th>133347</th>\n",
       "      <td>2020</td>\n",
       "      <td>EN</td>\n",
       "      <td>CT</td>\n",
       "      <td>Business Data Analyst</td>\n",
       "      <td>100000</td>\n",
       "      <td>US</td>\n",
       "      <td>100</td>\n",
       "      <td>US</td>\n",
       "      <td>L</td>\n",
       "    </tr>\n",
       "    <tr>\n",
       "      <th>133348</th>\n",
       "      <td>2021</td>\n",
       "      <td>SE</td>\n",
       "      <td>FT</td>\n",
       "      <td>Data Scientist</td>\n",
       "      <td>94665</td>\n",
       "      <td>IN</td>\n",
       "      <td>50</td>\n",
       "      <td>IN</td>\n",
       "      <td>L</td>\n",
       "    </tr>\n",
       "  </tbody>\n",
       "</table>\n",
       "<p>133349 rows × 9 columns</p>\n",
       "</div>"
      ],
      "text/plain": [
       "        work_year experience_level employment_type                 job_title  \\\n",
       "0            2025               SE              FT        Solutions Engineer   \n",
       "1            2025               SE              FT        Solutions Engineer   \n",
       "2            2025               MI              FT             Data Engineer   \n",
       "3            2025               MI              FT             Data Engineer   \n",
       "4            2025               EN              FT             Data Engineer   \n",
       "...           ...              ...             ...                       ...   \n",
       "133344       2020               SE              FT            Data Scientist   \n",
       "133345       2021               MI              FT  Principal Data Scientist   \n",
       "133346       2020               EN              FT            Data Scientist   \n",
       "133347       2020               EN              CT     Business Data Analyst   \n",
       "133348       2021               SE              FT            Data Scientist   \n",
       "\n",
       "        salary_in_usd employee_residence  remote_ratio company_location  \\\n",
       "0              214000                 US           100               US   \n",
       "1              136000                 US           100               US   \n",
       "2              158800                 AU             0               AU   \n",
       "3              139200                 AU             0               AU   \n",
       "4               90000                 US             0               US   \n",
       "...               ...                ...           ...              ...   \n",
       "133344         412000                 US           100               US   \n",
       "133345         151000                 US           100               US   \n",
       "133346         105000                 US           100               US   \n",
       "133347         100000                 US           100               US   \n",
       "133348          94665                 IN            50               IN   \n",
       "\n",
       "       company_size  \n",
       "0                 M  \n",
       "1                 M  \n",
       "2                 M  \n",
       "3                 M  \n",
       "4                 M  \n",
       "...             ...  \n",
       "133344            L  \n",
       "133345            L  \n",
       "133346            S  \n",
       "133347            L  \n",
       "133348            L  \n",
       "\n",
       "[133349 rows x 9 columns]"
      ]
     },
     "execution_count": 268,
     "metadata": {},
     "output_type": "execute_result"
    }
   ],
   "source": [
    "df = pd.read_csv('salaries.csv')\n",
    "df = df.drop(columns=['salary','salary_currency'])\n",
    "df"
   ]
  },
  {
   "cell_type": "markdown",
   "id": "85f849c3",
   "metadata": {},
   "source": [
    "#Country with the most employees"
   ]
  },
  {
   "cell_type": "code",
   "execution_count": 269,
   "id": "aebf5c3a",
   "metadata": {},
   "outputs": [
    {
     "data": {
      "application/vnd.microsoft.datawrangler.viewer.v0+json": {
       "columns": [
        {
         "name": "employee_residence",
         "rawType": "object",
         "type": "string"
        },
        {
         "name": "employee_residence",
         "rawType": "int64",
         "type": "integer"
        }
       ],
       "ref": "9541dba9-8a52-4000-889e-d3cc18e75b65",
       "rows": [
        [
         "US",
         "119579"
        ],
        [
         "CA",
         "5238"
        ],
        [
         "GB",
         "3711"
        ],
        [
         "AU",
         "517"
        ],
        [
         "NL",
         "404"
        ],
        [
         "DE",
         "385"
        ],
        [
         "FR",
         "369"
        ],
        [
         "LT",
         "338"
        ],
        [
         "AT",
         "297"
        ],
        [
         "ES",
         "265"
        ],
        [
         "IN",
         "236"
        ],
        [
         "SK",
         "194"
        ],
        [
         "PL",
         "149"
        ],
        [
         "IE",
         "136"
        ],
        [
         "LV",
         "114"
        ],
        [
         "MX",
         "100"
        ],
        [
         "BR",
         "98"
        ],
        [
         "AR",
         "78"
        ],
        [
         "IT",
         "72"
        ],
        [
         "PH",
         "67"
        ],
        [
         "ZA",
         "67"
        ],
        [
         "NZ",
         "66"
        ],
        [
         "PT",
         "65"
        ],
        [
         "FI",
         "65"
        ],
        [
         "CH",
         "54"
        ],
        [
         "EG",
         "50"
        ],
        [
         "CO",
         "41"
        ],
        [
         "SG",
         "39"
        ],
        [
         "JP",
         "34"
        ],
        [
         "BE",
         "30"
        ],
        [
         "GR",
         "29"
        ],
        [
         "TR",
         "29"
        ],
        [
         "CL",
         "21"
        ],
        [
         "UA",
         "18"
        ],
        [
         "MT",
         "17"
        ],
        [
         "TW",
         "17"
        ],
        [
         "EE",
         "17"
        ],
        [
         "CY",
         "15"
        ],
        [
         "IL",
         "15"
        ],
        [
         "NG",
         "14"
        ],
        [
         "LB",
         "12"
        ],
        [
         "CZ",
         "12"
        ],
        [
         "KR",
         "12"
        ],
        [
         "SE",
         "12"
        ],
        [
         "PR",
         "11"
        ],
        [
         "RO",
         "11"
        ],
        [
         "JM",
         "10"
        ],
        [
         "HU",
         "10"
        ],
        [
         "AM",
         "10"
        ],
        [
         "PE",
         "10"
        ]
       ],
       "shape": {
        "columns": 1,
        "rows": 102
       }
      },
      "text/plain": [
       "employee_residence\n",
       "US    119579\n",
       "CA      5238\n",
       "GB      3711\n",
       "AU       517\n",
       "NL       404\n",
       "       ...  \n",
       "OM         1\n",
       "RW         1\n",
       "QA         1\n",
       "UG         1\n",
       "ZM         1\n",
       "Name: employee_residence, Length: 102, dtype: int64"
      ]
     },
     "execution_count": 269,
     "metadata": {},
     "output_type": "execute_result"
    }
   ],
   "source": [
    "country_employe = df.groupby('employee_residence')['employee_residence'].count().sort_values(ascending=False)\n",
    "country_employe"
   ]
  },
  {
   "cell_type": "markdown",
   "id": "bf048da3",
   "metadata": {},
   "source": [
    "#General Salaries"
   ]
  },
  {
   "cell_type": "code",
   "execution_count": 275,
   "id": "f8e4f874",
   "metadata": {},
   "outputs": [
    {
     "data": {
      "application/vnd.microsoft.datawrangler.viewer.v0+json": {
       "columns": [
        {
         "name": "index",
         "rawType": "object",
         "type": "string"
        },
        {
         "name": "Max Salary",
         "rawType": "object",
         "type": "unknown"
        },
        {
         "name": "Min Salary",
         "rawType": "object",
         "type": "unknown"
        }
       ],
       "ref": "25049e0d-8899-44fa-9ec0-4271732f75fa",
       "rows": [
        [
         "work_year",
         "2025",
         "2022"
        ],
        [
         "experience_level",
         "SE",
         "MI"
        ],
        [
         "employment_type",
         "FT",
         "FT"
        ],
        [
         "job_title",
         "Architect",
         "Business Intelligence Developer"
        ],
        [
         "salary_in_usd",
         "800000",
         "15000"
        ],
        [
         "employee_residence",
         "US",
         "GH"
        ],
        [
         "remote_ratio",
         "0",
         "100"
        ],
        [
         "company_location",
         "US",
         "GH"
        ],
        [
         "company_size",
         "M",
         "M"
        ]
       ],
       "shape": {
        "columns": 2,
        "rows": 9
       }
      },
      "text/html": [
       "<div>\n",
       "<style scoped>\n",
       "    .dataframe tbody tr th:only-of-type {\n",
       "        vertical-align: middle;\n",
       "    }\n",
       "\n",
       "    .dataframe tbody tr th {\n",
       "        vertical-align: top;\n",
       "    }\n",
       "\n",
       "    .dataframe thead th {\n",
       "        text-align: right;\n",
       "    }\n",
       "</style>\n",
       "<table border=\"1\" class=\"dataframe\">\n",
       "  <thead>\n",
       "    <tr style=\"text-align: right;\">\n",
       "      <th></th>\n",
       "      <th>Max Salary</th>\n",
       "      <th>Min Salary</th>\n",
       "    </tr>\n",
       "  </thead>\n",
       "  <tbody>\n",
       "    <tr>\n",
       "      <th>work_year</th>\n",
       "      <td>2025</td>\n",
       "      <td>2022</td>\n",
       "    </tr>\n",
       "    <tr>\n",
       "      <th>experience_level</th>\n",
       "      <td>SE</td>\n",
       "      <td>MI</td>\n",
       "    </tr>\n",
       "    <tr>\n",
       "      <th>employment_type</th>\n",
       "      <td>FT</td>\n",
       "      <td>FT</td>\n",
       "    </tr>\n",
       "    <tr>\n",
       "      <th>job_title</th>\n",
       "      <td>Architect</td>\n",
       "      <td>Business Intelligence Developer</td>\n",
       "    </tr>\n",
       "    <tr>\n",
       "      <th>salary_in_usd</th>\n",
       "      <td>800000</td>\n",
       "      <td>15000</td>\n",
       "    </tr>\n",
       "    <tr>\n",
       "      <th>employee_residence</th>\n",
       "      <td>US</td>\n",
       "      <td>GH</td>\n",
       "    </tr>\n",
       "    <tr>\n",
       "      <th>remote_ratio</th>\n",
       "      <td>0</td>\n",
       "      <td>100</td>\n",
       "    </tr>\n",
       "    <tr>\n",
       "      <th>company_location</th>\n",
       "      <td>US</td>\n",
       "      <td>GH</td>\n",
       "    </tr>\n",
       "    <tr>\n",
       "      <th>company_size</th>\n",
       "      <td>M</td>\n",
       "      <td>M</td>\n",
       "    </tr>\n",
       "  </tbody>\n",
       "</table>\n",
       "</div>"
      ],
      "text/plain": [
       "                   Max Salary                       Min Salary\n",
       "work_year                2025                             2022\n",
       "experience_level           SE                               MI\n",
       "employment_type            FT                               FT\n",
       "job_title           Architect  Business Intelligence Developer\n",
       "salary_in_usd          800000                            15000\n",
       "employee_residence         US                               GH\n",
       "remote_ratio                0                              100\n",
       "company_location           US                               GH\n",
       "company_size                M                                M"
      ]
     },
     "execution_count": 275,
     "metadata": {},
     "output_type": "execute_result"
    }
   ],
   "source": [
    "max_salary=df['salary_in_usd'].idxmax()\n",
    "max_salary_row = df.loc[max_salary]\n",
    "min_salary=df['salary_in_usd'].idxmin()\n",
    "min_salary_row = df.loc[min_salary]\n",
    "\n",
    "salary=pd.DataFrame({'Max Salary': max_salary_row, 'Min Salary': min_salary_row})\n",
    "salary"
   ]
  },
  {
   "cell_type": "code",
   "execution_count": 270,
   "id": "256d6a1c",
   "metadata": {},
   "outputs": [
    {
     "data": {
      "application/vnd.microsoft.datawrangler.viewer.v0+json": {
       "columns": [
        {
         "name": "index",
         "rawType": "object",
         "type": "string"
        },
        {
         "name": "salary_in_usd",
         "rawType": "float64",
         "type": "float"
        }
       ],
       "ref": "eb551dbe-2d77-468e-8c74-7d98355dc8e1",
       "rows": [
        [
         "count",
         "133349.0"
        ],
        [
         "mean",
         "157617.27209802848"
        ],
        [
         "std",
         "74288.3630973623"
        ],
        [
         "min",
         "15000.0"
        ],
        [
         "25%",
         "106000.0"
        ],
        [
         "50%",
         "146206.0"
        ],
        [
         "75%",
         "198000.0"
        ],
        [
         "max",
         "800000.0"
        ]
       ],
       "shape": {
        "columns": 1,
        "rows": 8
       }
      },
      "text/plain": [
       "count    133349.000000\n",
       "mean     157617.272098\n",
       "std       74288.363097\n",
       "min       15000.000000\n",
       "25%      106000.000000\n",
       "50%      146206.000000\n",
       "75%      198000.000000\n",
       "max      800000.000000\n",
       "Name: salary_in_usd, dtype: float64"
      ]
     },
     "execution_count": 270,
     "metadata": {},
     "output_type": "execute_result"
    }
   ],
   "source": [
    "describe_salary = df['salary_in_usd'].describe()\n",
    "describe_salary"
   ]
  },
  {
   "cell_type": "code",
   "execution_count": 271,
   "id": "b2e4e36a",
   "metadata": {},
   "outputs": [
    {
     "name": "stdout",
     "output_type": "stream",
     "text": [
      "The maximum salary is: 800000.0\n",
      "The average salary is: 157617.27209802848\n",
      "The minimum salary is: 15000.0\n"
     ]
    }
   ],
   "source": [
    "print(\"The maximum salary is:\", describe_salary['max'])\n",
    "print(\"The average salary is:\", describe_salary['mean'])\n",
    "print(\"The minimum salary is:\", describe_salary['min'])\n"
   ]
  },
  {
   "cell_type": "markdown",
   "id": "0d743b69",
   "metadata": {},
   "source": [
    "#Job with the most employees"
   ]
  },
  {
   "cell_type": "code",
   "execution_count": 272,
   "id": "de9567b7",
   "metadata": {},
   "outputs": [
    {
     "data": {
      "application/vnd.microsoft.datawrangler.viewer.v0+json": {
       "columns": [
        {
         "name": "job_title",
         "rawType": "object",
         "type": "string"
        },
        {
         "name": "job_title",
         "rawType": "int64",
         "type": "integer"
        }
       ],
       "ref": "39f509b6-7e9a-41bb-8a84-dccde7dabc96",
       "rows": [
        [
         "Data Scientist",
         "17314"
        ],
        [
         "Software Engineer",
         "15007"
        ],
        [
         "Data Engineer",
         "14868"
        ],
        [
         "Data Analyst",
         "12381"
        ],
        [
         "Engineer",
         "9456"
        ],
        [
         "Machine Learning Engineer",
         "8205"
        ],
        [
         "Manager",
         "6679"
        ],
        [
         "Analyst",
         "4364"
        ],
        [
         "Research Scientist",
         "3202"
        ],
        [
         "Product Manager",
         "2230"
        ],
        [
         "Applied Scientist",
         "2205"
        ],
        [
         "Associate",
         "2073"
        ],
        [
         "Data Architect",
         "2024"
        ],
        [
         "Analytics Engineer",
         "1895"
        ],
        [
         "AI Engineer",
         "1620"
        ],
        [
         "Research Engineer",
         "1614"
        ],
        [
         "Consultant",
         "1125"
        ],
        [
         "Data Manager",
         "975"
        ],
        [
         "Business Intelligence Engineer",
         "870"
        ],
        [
         "Data Specialist",
         "854"
        ],
        [
         "Developer",
         "832"
        ],
        [
         "Solutions Architect",
         "802"
        ],
        [
         "Engineering Manager",
         "776"
        ],
        [
         "Systems Engineer",
         "724"
        ],
        [
         "Software Developer",
         "704"
        ],
        [
         "Machine Learning Researcher",
         "691"
        ],
        [
         "Software Development Engineer",
         "679"
        ],
        [
         "Architect",
         "627"
        ],
        [
         "Business Intelligence Analyst",
         "618"
        ],
        [
         "DevOps Engineer",
         "502"
        ],
        [
         "Platform Engineer",
         "484"
        ],
        [
         "Machine Learning Scientist",
         "465"
        ],
        [
         "Site Reliability Engineer",
         "446"
        ],
        [
         "Research Analyst",
         "440"
        ],
        [
         "Business Analyst",
         "427"
        ],
        [
         "Business Intelligence Developer",
         "387"
        ],
        [
         "Solutions Engineer",
         "349"
        ],
        [
         "Business Intelligence",
         "346"
        ],
        [
         "Director",
         "322"
        ],
        [
         "Backend Engineer",
         "317"
        ],
        [
         "BI Analyst",
         "313"
        ],
        [
         "Data Management Analyst",
         "298"
        ],
        [
         "Head of Data",
         "296"
        ],
        [
         "Data Governance",
         "296"
        ],
        [
         "Data Product Manager",
         "292"
        ],
        [
         "BI Developer",
         "284"
        ],
        [
         "Data Lead",
         "276"
        ],
        [
         "Data Analytics Manager",
         "252"
        ],
        [
         "AI Architect",
         "251"
        ],
        [
         "Solution Architect",
         "244"
        ]
       ],
       "shape": {
        "columns": 1,
        "rows": 390
       }
      },
      "text/plain": [
       "job_title\n",
       "Data Scientist                     17314\n",
       "Software Engineer                  15007\n",
       "Data Engineer                      14868\n",
       "Data Analyst                       12381\n",
       "Engineer                            9456\n",
       "                                   ...  \n",
       "Big Data Analyst                       1\n",
       "Advanced Data Analyst                  1\n",
       "AWS Data Architect                     1\n",
       "Analytics Analyst                      1\n",
       "Staff Machine Learning Engineer        1\n",
       "Name: job_title, Length: 390, dtype: int64"
      ]
     },
     "execution_count": 272,
     "metadata": {},
     "output_type": "execute_result"
    }
   ],
   "source": [
    "sum_job = df.groupby('job_title')['job_title'].count().sort_values(ascending=False)\n",
    "sum_job"
   ]
  },
  {
   "cell_type": "markdown",
   "id": "ba802b60",
   "metadata": {},
   "source": [
    "#Salary by experience level"
   ]
  },
  {
   "cell_type": "code",
   "execution_count": 273,
   "id": "4b91484e",
   "metadata": {},
   "outputs": [
    {
     "name": "stdout",
     "output_type": "stream",
     "text": [
      "Experience Level: EN\n",
      "count     12443.000000\n",
      "mean      99039.040264\n",
      "std       55548.169071\n",
      "min       15000.000000\n",
      "25%       62087.500000\n",
      "50%       86551.000000\n",
      "75%      124000.000000\n",
      "max      793136.000000\n",
      "Name: salary_in_usd, dtype: float64\n",
      "Experience Level: MI\n",
      "count     40465.000000\n",
      "mean     143041.323489\n",
      "std       72480.516555\n",
      "min       15000.000000\n",
      "25%       93500.000000\n",
      "50%      130000.000000\n",
      "75%      176000.000000\n",
      "max      800000.000000\n",
      "Name: salary_in_usd, dtype: float64\n",
      "Experience Level: SE\n",
      "count     77241.000000\n",
      "mean     172850.003845\n",
      "std       71013.562585\n",
      "min       15645.000000\n",
      "25%      123000.000000\n",
      "50%      161154.000000\n",
      "75%      210000.000000\n",
      "max      800000.000000\n",
      "Name: salary_in_usd, dtype: float64\n",
      "Experience Level: EX\n",
      "count      3200.000000\n",
      "mean     202027.667813\n",
      "std       78883.930639\n",
      "min       15000.000000\n",
      "25%      145440.000000\n",
      "50%      190000.000000\n",
      "75%      250000.000000\n",
      "max      625000.000000\n",
      "Name: salary_in_usd, dtype: float64\n"
     ]
    }
   ],
   "source": [
    "levels = ['EN','MI','SE','EX']\n",
    "for level in levels:\n",
    "    ex = df[df['experience_level']==level]\n",
    "    print(f\"Experience Level: {level}\")\n",
    "    print(ex['salary_in_usd'].describe())"
   ]
  },
  {
   "cell_type": "code",
   "execution_count": 274,
   "id": "832cb831",
   "metadata": {},
   "outputs": [
    {
     "name": "stderr",
     "output_type": "stream",
     "text": [
      "C:\\Users\\Lenovo\\AppData\\Local\\Temp\\ipykernel_22996\\734798160.py:5: FutureWarning: \n",
      "\n",
      "Passing `palette` without assigning `hue` is deprecated and will be removed in v0.14.0. Assign the `x` variable to `hue` and set `legend=False` for the same effect.\n",
      "\n",
      "  grafico = sns.barplot(\n"
     ]
    },
    {
     "data": {
      "image/png": "[encoded data removed]",
      "text/plain": [
       "<Figure size 800x500 with 1 Axes>"
      ]
     },
     "metadata": {},
     "output_type": "display_data"
    }
   ],
   "source": [
    "sum_experience = df.groupby('experience_level')['experience_level'].count()\n",
    "orden = ['EN', 'MI', 'SE', 'EX'] \n",
    "\n",
    "plt.figure(figsize=(8, 5))\n",
    "grafico = sns.barplot(\n",
    "    x=sum_experience.index, \n",
    "    y=sum_experience.values, \n",
    "    palette='viridis',\n",
    "    order=orden\n",
    ")\n",
    "\n",
    "for barra in grafico.patches:\n",
    "    altura = barra.get_height()\n",
    "    grafico.text(\n",
    "        barra.get_x() + barra.get_width() / 2, \n",
    "        altura,                                 \n",
    "        f'{altura:.0f}',                        \n",
    "        ha='center', va='bottom'                \n",
    "    )\n",
    "\n",
    "plt.title('Number of employees by experience level')\n",
    "plt.show()"
   ]
  },
  {
   "cell_type": "code",
   "execution_count": 277,
   "id": "a88692bb",
   "metadata": {},
   "outputs": [],
   "source": [
    "def center_labels_v(grafico):\n",
    "    for barra in grafico.patches:\n",
    "        altura = barra.get_height()\n",
    "        grafico.text(\n",
    "            barra.get_x() + barra.get_width() / 2, \n",
    "            altura,                                 \n",
    "            f'{altura:.0f}',                        \n",
    "            ha='center', va='bottom'                \n",
    "        )\n",
    "\n",
    "def center_labels_h(grafico):\n",
    "    for barra in grafico.patches:\n",
    "        ancho = barra.get_width()\n",
    "        grafico.text(\n",
    "            ancho, \n",
    "            barra.get_y() + barra.get_height() / 2, \n",
    "            f'{ancho:.0f}', \n",
    "            ha='left', va='center'\n",
    "        )\n",
    "        "
   ]
  },
  {
   "cell_type": "code",
   "execution_count": 278,
   "id": "b4a0ec89",
   "metadata": {},
   "outputs": [
    {
     "name": "stderr",
     "output_type": "stream",
     "text": [
      "C:\\Users\\Lenovo\\AppData\\Local\\Temp\\ipykernel_22996\\3118076814.py:3: FutureWarning: \n",
      "\n",
      "Passing `palette` without assigning `hue` is deprecated and will be removed in v0.14.0. Assign the `x` variable to `hue` and set `legend=False` for the same effect.\n",
      "\n",
      "  grafico=sns.barplot(x=mean_salary_experience.index, y=mean_salary_experience.values, palette='coolwarm',\n"
     ]
    },
    {
     "data": {
      "image/png": "[encoded data removed]",
      "text/plain": [
       "<Figure size 1000x600 with 1 Axes>"
      ]
     },
     "metadata": {},
     "output_type": "display_data"
    }
   ],
   "source": [
    "mean_salary_experience = df.groupby('experience_level')['salary_in_usd'].mean()\n",
    "plt.figure(figsize=(10, 6)) \n",
    "grafico=sns.barplot(x=mean_salary_experience.index, y=mean_salary_experience.values, palette='coolwarm',\n",
    "                    order=orden)\n",
    "center_lebel_v(grafico)\n",
    "\n",
    "plt.title('Average Salary by Experience Level')\n",
    "plt.show()"
   ]
  },
  {
   "cell_type": "code",
   "execution_count": 283,
   "id": "d1f74753",
   "metadata": {},
   "outputs": [
    {
     "name": "stderr",
     "output_type": "stream",
     "text": [
      "C:\\Users\\Lenovo\\AppData\\Local\\Temp\\ipykernel_22996\\1043076854.py:1: FutureWarning: \n",
      "\n",
      "Passing `palette` without assigning `hue` is deprecated and will be removed in v0.14.0. Assign the `x` variable to `hue` and set `legend=False` for the same effect.\n",
      "\n",
      "  sns.boxenplot(data=df, x='experience_level', y='salary_in_usd', palette='Set2', order=orden)\n"
     ]
    },
    {
     "data": {
      "text/plain": [
       "Text(0.5, 1.0, 'Salary Distribution by Experience Level')"
      ]
     },
     "execution_count": 283,
     "metadata": {},
     "output_type": "execute_result"
    },
    {
     "data": {
      "image/png": "[encoded data removed]",
      "text/plain": [
       "<Figure size 1200x600 with 1 Axes>"
      ]
     },
     "metadata": {},
     "output_type": "display_data"
    }
   ],
   "source": [
    "sns.boxenplot(data=df, x='experience_level', y='salary_in_usd', palette='Set2', order=orden)\n",
    "plt.title('Salary Distribution by Experience Level')"
   ]
  },
  {
   "cell_type": "markdown",
   "id": "5d49b78f",
   "metadata": {},
   "source": [
    "#Salary by job title"
   ]
  },
  {
   "cell_type": "code",
   "execution_count": 279,
   "id": "58f74846",
   "metadata": {},
   "outputs": [
    {
     "name": "stderr",
     "output_type": "stream",
     "text": [
      "C:\\Users\\Lenovo\\AppData\\Local\\Temp\\ipykernel_22996\\2156039147.py:4: FutureWarning: \n",
      "\n",
      "Passing `palette` without assigning `hue` is deprecated and will be removed in v0.14.0. Assign the `y` variable to `hue` and set `legend=False` for the same effect.\n",
      "\n",
      "  grafico=sns.barplot(y=mean_salary_job.index, x=mean_salary_job.values, palette='mako',orient='horizontal')\n"
     ]
    },
    {
     "data": {
      "text/plain": [
       "Text(0.5, 1.0, 'Top 10 job titles with highest average salary')"
      ]
     },
     "execution_count": 279,
     "metadata": {},
     "output_type": "execute_result"
    },
    {
     "data": {
      "image/png": "[encoded data removed]",
      "text/plain": [
       "<Figure size 1000x600 with 1 Axes>"
      ]
     },
     "metadata": {},
     "output_type": "display_data"
    }
   ],
   "source": [
    "mean_salary_job = df.groupby('job_title')['salary_in_usd'].mean().sort_values(ascending=False)\n",
    "mean_salary_job = mean_salary_job.head(10)\n",
    "plt.figure(figsize=(10, 6))\n",
    "grafico=sns.barplot(y=mean_salary_job.index, x=mean_salary_job.values, palette='mako',orient='horizontal')\n",
    "center_labels_h(grafico)\n",
    "plt.title('Top 10 job titles with highest average salary')\n"
   ]
  },
  {
   "cell_type": "markdown",
   "id": "3849918a",
   "metadata": {},
   "source": [
    "#jobs by year"
   ]
  },
  {
   "cell_type": "code",
   "execution_count": 281,
   "id": "29cdc405",
   "metadata": {},
   "outputs": [
    {
     "name": "stderr",
     "output_type": "stream",
     "text": [
      "C:\\Users\\Lenovo\\AppData\\Local\\Temp\\ipykernel_22996\\3430261563.py:3: FutureWarning: \n",
      "\n",
      "Passing `palette` without assigning `hue` is deprecated and will be removed in v0.14.0. Assign the `x` variable to `hue` and set `legend=False` for the same effect.\n",
      "\n",
      "  grafico = sns.barplot(x=sum_work.index, y=sum_work.values, palette='magma')\n"
     ]
    },
    {
     "data": {
      "image/png": "[encoded data removed]",
      "text/plain": [
       "<Figure size 1000x600 with 1 Axes>"
      ]
     },
     "metadata": {},
     "output_type": "display_data"
    }
   ],
   "source": [
    "sum_work = df.groupby('work_year')['work_year'].count().sort_values(ascending=False)\n",
    "plt.figure(figsize=(10, 6))\n",
    "grafico = sns.barplot(x=sum_work.index, y=sum_work.values, palette='magma')\n",
    "center_labels_v(grafico)"
   ]
  },
  {
   "cell_type": "code",
   "execution_count": null,
   "id": "c67e82f0",
   "metadata": {},
   "outputs": [
    {
     "data": {
      "text/plain": [
       "Text(0.5, 1.0, 'Salary vs Work Year by Experience Level')"
      ]
     },
     "execution_count": 242,
     "metadata": {},
     "output_type": "execute_result"
    },
    {
     "data": {
      "image/png": "[encoded data removed]",
      "text/plain": [
       "<Figure size 1200x600 with 1 Axes>"
      ]
     },
     "metadata": {},
     "output_type": "display_data"
    }
   ],
   "source": [
    "sns.scatterplot(data=df,x='salary_in_usd', y='work_year', hue='experience_level')\n",
    "plt.title('Salary vs Work Year by Experience Level')"
   ]
  }
 ],
 "metadata": {
  "kernelspec": {
   "display_name": "data",
   "language": "python",
   "name": "python3"
  },
  "language_info": {
   "codemirror_mode": {
    "name": "ipython",
    "version": 3
   },
   "file_extension": ".py",
   "mimetype": "text/x-python",
   "name": "python",
   "nbconvert_exporter": "python",
   "pygments_lexer": "ipython3",
   "version": "3.11.11"
  }
 },
 "nbformat": 4,
 "nbformat_minor": 5
}
